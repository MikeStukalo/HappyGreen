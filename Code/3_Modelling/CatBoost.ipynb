{
 "cells": [
  {
   "cell_type": "markdown",
   "metadata": {},
   "source": [
    "I am using [CatBoost](https://catboost.ai/) XGBoost classification algorithm for a prediction model for golf putts."
   ]
  },
  {
   "cell_type": "code",
   "execution_count": 1,
   "metadata": {},
   "outputs": [],
   "source": [
    "import pandas as pd\n",
    "import numpy as np\n",
    "import matplotlib.pyplot as plt\n",
    "import seaborn as sns\n",
    "from catboost import CatBoostClassifier, Pool, cv\n",
    "from catboost.utils import get_confusion_matrix\n",
    "\n",
    "from sklearn.model_selection import train_test_split\n",
    "\n",
    "\n",
    "plt.style.use(\"seaborn\")"
   ]
  },
  {
   "cell_type": "markdown",
   "metadata": {},
   "source": [
    "# CatBoost Training"
   ]
  },
  {
   "cell_type": "code",
   "execution_count": 2,
   "metadata": {},
   "outputs": [
    {
     "data": {
      "text/html": [
       "<div>\n",
       "<style scoped>\n",
       "    .dataframe tbody tr th:only-of-type {\n",
       "        vertical-align: middle;\n",
       "    }\n",
       "\n",
       "    .dataframe tbody tr th {\n",
       "        vertical-align: top;\n",
       "    }\n",
       "\n",
       "    .dataframe thead th {\n",
       "        text-align: right;\n",
       "    }\n",
       "</style>\n",
       "<table border=\"1\" class=\"dataframe\">\n",
       "  <thead>\n",
       "    <tr style=\"text-align: right;\">\n",
       "      <th></th>\n",
       "      <th>Distance</th>\n",
       "      <th>Result</th>\n",
       "      <th>AX_Range</th>\n",
       "      <th>AX_Max</th>\n",
       "      <th>AX_Min</th>\n",
       "      <th>AX_Last</th>\n",
       "      <th>AX_Mean</th>\n",
       "      <th>AX_StDev</th>\n",
       "      <th>AX_MeanD</th>\n",
       "      <th>AX_StDevDem</th>\n",
       "      <th>...</th>\n",
       "      <th>Accel_Deriv</th>\n",
       "      <th>Gyro_Range</th>\n",
       "      <th>Gyro_Max</th>\n",
       "      <th>Gyro_Min</th>\n",
       "      <th>Gyro_Last</th>\n",
       "      <th>Gyro_Mean</th>\n",
       "      <th>Gyro_StDev</th>\n",
       "      <th>Gyro_MeanD</th>\n",
       "      <th>Gyro_StDevDem</th>\n",
       "      <th>Gyro_Deriv</th>\n",
       "    </tr>\n",
       "  </thead>\n",
       "  <tbody>\n",
       "    <tr>\n",
       "      <th>146</th>\n",
       "      <td>4</td>\n",
       "      <td>0</td>\n",
       "      <td>75.0</td>\n",
       "      <td>70.0</td>\n",
       "      <td>-5.0</td>\n",
       "      <td>70.0</td>\n",
       "      <td>27.625000</td>\n",
       "      <td>29.012659</td>\n",
       "      <td>32.625000</td>\n",
       "      <td>29.012659</td>\n",
       "      <td>...</td>\n",
       "      <td>0.921864</td>\n",
       "      <td>76.668186</td>\n",
       "      <td>528.106997</td>\n",
       "      <td>451.438811</td>\n",
       "      <td>451.438811</td>\n",
       "      <td>488.331847</td>\n",
       "      <td>25.468255</td>\n",
       "      <td>36.893036</td>\n",
       "      <td>25.468255</td>\n",
       "      <td>-1.782981</td>\n",
       "    </tr>\n",
       "    <tr>\n",
       "      <th>117</th>\n",
       "      <td>4</td>\n",
       "      <td>1</td>\n",
       "      <td>123.0</td>\n",
       "      <td>82.0</td>\n",
       "      <td>-41.0</td>\n",
       "      <td>82.0</td>\n",
       "      <td>11.857143</td>\n",
       "      <td>37.869809</td>\n",
       "      <td>52.857143</td>\n",
       "      <td>37.869809</td>\n",
       "      <td>...</td>\n",
       "      <td>-0.999936</td>\n",
       "      <td>70.940441</td>\n",
       "      <td>509.959802</td>\n",
       "      <td>439.019362</td>\n",
       "      <td>439.019362</td>\n",
       "      <td>472.826563</td>\n",
       "      <td>28.538912</td>\n",
       "      <td>33.807202</td>\n",
       "      <td>28.538912</td>\n",
       "      <td>-1.917309</td>\n",
       "    </tr>\n",
       "    <tr>\n",
       "      <th>201</th>\n",
       "      <td>6</td>\n",
       "      <td>1</td>\n",
       "      <td>215.0</td>\n",
       "      <td>158.0</td>\n",
       "      <td>-57.0</td>\n",
       "      <td>58.0</td>\n",
       "      <td>60.000000</td>\n",
       "      <td>68.600292</td>\n",
       "      <td>117.000000</td>\n",
       "      <td>68.600292</td>\n",
       "      <td>...</td>\n",
       "      <td>-4.920998</td>\n",
       "      <td>51.266960</td>\n",
       "      <td>511.219131</td>\n",
       "      <td>459.952171</td>\n",
       "      <td>459.952171</td>\n",
       "      <td>486.863509</td>\n",
       "      <td>18.163799</td>\n",
       "      <td>26.911338</td>\n",
       "      <td>18.163799</td>\n",
       "      <td>-2.050678</td>\n",
       "    </tr>\n",
       "    <tr>\n",
       "      <th>156</th>\n",
       "      <td>5</td>\n",
       "      <td>1</td>\n",
       "      <td>203.0</td>\n",
       "      <td>111.0</td>\n",
       "      <td>-92.0</td>\n",
       "      <td>78.0</td>\n",
       "      <td>29.600000</td>\n",
       "      <td>71.795822</td>\n",
       "      <td>121.600000</td>\n",
       "      <td>71.795822</td>\n",
       "      <td>...</td>\n",
       "      <td>-1.834295</td>\n",
       "      <td>78.538963</td>\n",
       "      <td>514.269385</td>\n",
       "      <td>435.730421</td>\n",
       "      <td>435.730421</td>\n",
       "      <td>475.198878</td>\n",
       "      <td>26.728746</td>\n",
       "      <td>39.468457</td>\n",
       "      <td>26.728746</td>\n",
       "      <td>-3.141559</td>\n",
       "    </tr>\n",
       "    <tr>\n",
       "      <th>152</th>\n",
       "      <td>5</td>\n",
       "      <td>0</td>\n",
       "      <td>157.0</td>\n",
       "      <td>130.0</td>\n",
       "      <td>-27.0</td>\n",
       "      <td>130.0</td>\n",
       "      <td>29.200000</td>\n",
       "      <td>60.713755</td>\n",
       "      <td>56.200000</td>\n",
       "      <td>60.713755</td>\n",
       "      <td>...</td>\n",
       "      <td>-4.567292</td>\n",
       "      <td>60.445141</td>\n",
       "      <td>509.260248</td>\n",
       "      <td>448.815107</td>\n",
       "      <td>448.815107</td>\n",
       "      <td>482.307385</td>\n",
       "      <td>22.973597</td>\n",
       "      <td>33.492279</td>\n",
       "      <td>22.973597</td>\n",
       "      <td>-2.417806</td>\n",
       "    </tr>\n",
       "  </tbody>\n",
       "</table>\n",
       "<p>5 rows × 74 columns</p>\n",
       "</div>"
      ],
      "text/plain": [
       "     Distance  Result  AX_Range  AX_Max  AX_Min  AX_Last    AX_Mean  \\\n",
       "146         4       0      75.0    70.0    -5.0     70.0  27.625000   \n",
       "117         4       1     123.0    82.0   -41.0     82.0  11.857143   \n",
       "201         6       1     215.0   158.0   -57.0     58.0  60.000000   \n",
       "156         5       1     203.0   111.0   -92.0     78.0  29.600000   \n",
       "152         5       0     157.0   130.0   -27.0    130.0  29.200000   \n",
       "\n",
       "      AX_StDev    AX_MeanD  AX_StDevDem  ...  Accel_Deriv  Gyro_Range  \\\n",
       "146  29.012659   32.625000    29.012659  ...     0.921864   76.668186   \n",
       "117  37.869809   52.857143    37.869809  ...    -0.999936   70.940441   \n",
       "201  68.600292  117.000000    68.600292  ...    -4.920998   51.266960   \n",
       "156  71.795822  121.600000    71.795822  ...    -1.834295   78.538963   \n",
       "152  60.713755   56.200000    60.713755  ...    -4.567292   60.445141   \n",
       "\n",
       "       Gyro_Max    Gyro_Min   Gyro_Last   Gyro_Mean  Gyro_StDev  Gyro_MeanD  \\\n",
       "146  528.106997  451.438811  451.438811  488.331847   25.468255   36.893036   \n",
       "117  509.959802  439.019362  439.019362  472.826563   28.538912   33.807202   \n",
       "201  511.219131  459.952171  459.952171  486.863509   18.163799   26.911338   \n",
       "156  514.269385  435.730421  435.730421  475.198878   26.728746   39.468457   \n",
       "152  509.260248  448.815107  448.815107  482.307385   22.973597   33.492279   \n",
       "\n",
       "     Gyro_StDevDem  Gyro_Deriv  \n",
       "146      25.468255   -1.782981  \n",
       "117      28.538912   -1.917309  \n",
       "201      18.163799   -2.050678  \n",
       "156      26.728746   -3.141559  \n",
       "152      22.973597   -2.417806  \n",
       "\n",
       "[5 rows x 74 columns]"
      ]
     },
     "execution_count": 2,
     "metadata": {},
     "output_type": "execute_result"
    }
   ],
   "source": [
    "# Load train, validation, and test sets\n",
    "train = pd.read_pickle(\"../2_FeatureExtraction/data/train.pkl\")\n",
    "test = pd.read_pickle(\"../2_FeatureExtraction/data/test.pkl\")\n",
    "\n",
    "# Remove id\n",
    "train.drop(\"Id\", axis=1, inplace=True)\n",
    "test.drop(\"Id\", axis=1, inplace=True)\n",
    "\n",
    "\n",
    "train.head()"
   ]
  },
  {
   "cell_type": "markdown",
   "metadata": {},
   "source": [
    "This was an iterrative process of illiminating"
   ]
  },
  {
   "cell_type": "code",
   "execution_count": 3,
   "metadata": {},
   "outputs": [],
   "source": [
    "# Remove AX\n",
    "col_rem = [col for col in train if col.startswith(('Gyro', 'Accel', 'AX', 'GX'))]\n",
    "\n",
    "train.drop(col_rem, axis=1, inplace=True)\n",
    "test.drop(col_rem, axis=1, inplace=True)"
   ]
  },
  {
   "cell_type": "code",
   "execution_count": 4,
   "metadata": {},
   "outputs": [
    {
     "data": {
      "text/plain": [
       "(175, 38)"
      ]
     },
     "execution_count": 4,
     "metadata": {},
     "output_type": "execute_result"
    }
   ],
   "source": [
    "train.shape"
   ]
  },
  {
   "cell_type": "code",
   "execution_count": 5,
   "metadata": {},
   "outputs": [
    {
     "data": {
      "text/plain": [
       "(75, 38)"
      ]
     },
     "execution_count": 5,
     "metadata": {},
     "output_type": "execute_result"
    }
   ],
   "source": [
    "test.shape"
   ]
  },
  {
   "cell_type": "markdown",
   "metadata": {},
   "source": [
    "CatBoost has a built-in hyperparameter tuning algorithm. I assign some of the obervations (30%) from the training set to a validation set for the hyperparameter tuning. "
   ]
  },
  {
   "cell_type": "code",
   "execution_count": 6,
   "metadata": {},
   "outputs": [
    {
     "name": "stdout",
     "output_type": "stream",
     "text": [
      "(122, 38)\n",
      "(53, 38)\n"
     ]
    },
    {
     "data": {
      "text/plain": [
       "<catboost.core.CatBoostClassifier at 0x2393d15d0c8>"
      ]
     },
     "execution_count": 6,
     "metadata": {},
     "output_type": "execute_result"
    }
   ],
   "source": [
    "# Create validation set\n",
    "train_ds, val_ds  = train_test_split(train, test_size=0.3, random_state=123, stratify=train[['Result', 'Distance']])\n",
    "print(train_ds.shape)\n",
    "print(val_ds.shape)\n",
    "\n",
    "# Prepare data\n",
    "X_train = train_ds.drop('Result', axis=1)\n",
    "X_val = val_ds.drop('Result', axis=1)\n",
    "\n",
    "y_train = train_ds.Result\n",
    "y_val = val_ds.Result\n",
    "\n",
    "\n",
    "# Parameters\n",
    "params = {\n",
    "    'iterations': 500,\n",
    "    'learning_rate': 0.1,\n",
    "    'eval_metric': 'AUC',\n",
    "    'random_seed': 42,\n",
    "    'logging_level': 'Silent',\n",
    "    'use_best_model': True,\n",
    "    'od_type': 'Iter',\n",
    "    'od_wait': 40\n",
    "    \n",
    "}\n",
    "\n",
    "\n",
    "categorical_features_indices = []\n",
    "train_pool = Pool(X_train, y_train, cat_features=categorical_features_indices)\n",
    "validate_pool = Pool(X_val, y_val, cat_features=categorical_features_indices)\n",
    "\n",
    "model = CatBoostClassifier(**params)\n",
    "model.fit(train_pool, eval_set=validate_pool)\n"
   ]
  },
  {
   "cell_type": "code",
   "execution_count": 7,
   "metadata": {},
   "outputs": [],
   "source": [
    "# Save the model\n",
    "model.save_model(\"./data/catboost_model.cb\")"
   ]
  },
  {
   "cell_type": "markdown",
   "metadata": {},
   "source": [
    "# Model performance"
   ]
  },
  {
   "cell_type": "markdown",
   "metadata": {},
   "source": [
    "We examine model performance in train, validation, and test dataset. \n",
    "\n",
    "First, let's examine model scores."
   ]
  },
  {
   "cell_type": "code",
   "execution_count": 8,
   "metadata": {},
   "outputs": [
    {
     "data": {
      "text/plain": [
       "1.0"
      ]
     },
     "execution_count": 8,
     "metadata": {},
     "output_type": "execute_result"
    }
   ],
   "source": [
    "# Train data\n",
    "tr_acc = model.score(Pool(X_train, y_train, cat_features=categorical_features_indices))\n",
    "tr_acc"
   ]
  },
  {
   "cell_type": "code",
   "execution_count": 9,
   "metadata": {},
   "outputs": [
    {
     "data": {
      "text/plain": [
       "0.7735849056603774"
      ]
     },
     "execution_count": 9,
     "metadata": {},
     "output_type": "execute_result"
    }
   ],
   "source": [
    "# Validation data\n",
    "val_acc = model.score(Pool(X_val, y_val,cat_features=categorical_features_indices))\n",
    "val_acc"
   ]
  },
  {
   "cell_type": "code",
   "execution_count": 10,
   "metadata": {},
   "outputs": [
    {
     "data": {
      "text/plain": [
       "0.64"
      ]
     },
     "execution_count": 10,
     "metadata": {},
     "output_type": "execute_result"
    }
   ],
   "source": [
    "# Test data\n",
    "\n",
    "test_data = test.drop('Result', axis=1)\n",
    "test_labels = test.Result\n",
    "\n",
    "test_acc = model.score(Pool(test_data, test_labels, cat_features=categorical_features_indices))\n",
    "test_acc"
   ]
  },
  {
   "cell_type": "markdown",
   "metadata": {},
   "source": [
    "The score is not particularly high, but still better than a coin toss. Next, we see if the predictions are biased by examining confusion matrices. "
   ]
  },
  {
   "cell_type": "code",
   "execution_count": 11,
   "metadata": {},
   "outputs": [],
   "source": [
    "def PlotConfusion(model, data, labels, cat_features,score):\n",
    "    '''\n",
    "    Helper function to plot confusion matrix\n",
    "    '''\n",
    "    \n",
    "    cm = get_confusion_matrix(model, Pool(data, labels, cat_features=categorical_features_indices))\n",
    "    \n",
    "    cm_df = pd.DataFrame(cm,\n",
    "                     index = ['Miss','Hit'], \n",
    "                     columns = ['Miss','Hit'])\n",
    "    \n",
    "    plt.figure(figsize=(5.5,4))\n",
    "    sns.heatmap(cm_df, annot=True)\n",
    "    plt.title('CatBoost \\nAccuracy:{0:.3f}'.format(score))\n",
    "    plt.ylabel('True label')\n",
    "    plt.xlabel('Predicted label')\n",
    "    plt.show()"
   ]
  },
  {
   "cell_type": "code",
   "execution_count": 12,
   "metadata": {},
   "outputs": [
    {
     "data": {
      "image/png": "[encoded data removed]",
      "text/plain": [
       "<Figure size 396x288 with 2 Axes>"
      ]
     },
     "metadata": {},
     "output_type": "display_data"
    }
   ],
   "source": [
    "PlotConfusion(model,X_train, y_train, categorical_features_indices, tr_acc)\n",
    "\n"
   ]
  },
  {
   "cell_type": "code",
   "execution_count": 13,
   "metadata": {},
   "outputs": [
    {
     "data": {
      "image/png": "[encoded data removed]",
      "text/plain": [
       "<Figure size 396x288 with 2 Axes>"
      ]
     },
     "metadata": {},
     "output_type": "display_data"
    }
   ],
   "source": [
    "PlotConfusion(model, X_val, y_val, categorical_features_indices, val_acc)"
   ]
  },
  {
   "cell_type": "code",
   "execution_count": 14,
   "metadata": {},
   "outputs": [
    {
     "data": {
      "image/png": "[encoded data removed]",
      "text/plain": [
       "<Figure size 396x288 with 2 Axes>"
      ]
     },
     "metadata": {},
     "output_type": "display_data"
    }
   ],
   "source": [
    "PlotConfusion(model, test_data, test_labels, categorical_features_indices, test_acc)"
   ]
  },
  {
   "cell_type": "markdown",
   "metadata": {},
   "source": [
    "We see that the predictions do not seem to be extremely biased, maybe a bit towards successful hit. Probably, as a future work, we need collect more data and make data more granual to improve the accuracy. "
   ]
  },
  {
   "cell_type": "markdown",
   "metadata": {},
   "source": [
    "# Examine feature importance"
   ]
  },
  {
   "cell_type": "markdown",
   "metadata": {},
   "source": [
    "Let's examine if feature importance assigned by the model makes practical sense."
   ]
  },
  {
   "cell_type": "code",
   "execution_count": 15,
   "metadata": {},
   "outputs": [
    {
     "data": {
      "text/html": [
       "<div>\n",
       "<style scoped>\n",
       "    .dataframe tbody tr th:only-of-type {\n",
       "        vertical-align: middle;\n",
       "    }\n",
       "\n",
       "    .dataframe tbody tr th {\n",
       "        vertical-align: top;\n",
       "    }\n",
       "\n",
       "    .dataframe thead th {\n",
       "        text-align: right;\n",
       "    }\n",
       "</style>\n",
       "<table border=\"1\" class=\"dataframe\">\n",
       "  <thead>\n",
       "    <tr style=\"text-align: right;\">\n",
       "      <th></th>\n",
       "      <th>Feature</th>\n",
       "      <th>Importance</th>\n",
       "    </tr>\n",
       "  </thead>\n",
       "  <tbody>\n",
       "    <tr>\n",
       "      <th>25</th>\n",
       "      <td>GY_MeanD</td>\n",
       "      <td>6.356344</td>\n",
       "    </tr>\n",
       "    <tr>\n",
       "      <th>11</th>\n",
       "      <td>AZ_Max</td>\n",
       "      <td>6.042529</td>\n",
       "    </tr>\n",
       "    <tr>\n",
       "      <th>14</th>\n",
       "      <td>AZ_Mean</td>\n",
       "      <td>5.089385</td>\n",
       "    </tr>\n",
       "    <tr>\n",
       "      <th>32</th>\n",
       "      <td>GZ_Mean</td>\n",
       "      <td>4.419748</td>\n",
       "    </tr>\n",
       "    <tr>\n",
       "      <th>21</th>\n",
       "      <td>GY_Min</td>\n",
       "      <td>4.113567</td>\n",
       "    </tr>\n",
       "    <tr>\n",
       "      <th>4</th>\n",
       "      <td>AY_Last</td>\n",
       "      <td>3.765807</td>\n",
       "    </tr>\n",
       "    <tr>\n",
       "      <th>17</th>\n",
       "      <td>AZ_StDevDem</td>\n",
       "      <td>3.491760</td>\n",
       "    </tr>\n",
       "    <tr>\n",
       "      <th>19</th>\n",
       "      <td>GY_Range</td>\n",
       "      <td>3.255529</td>\n",
       "    </tr>\n",
       "    <tr>\n",
       "      <th>26</th>\n",
       "      <td>GY_StDevDem</td>\n",
       "      <td>3.219690</td>\n",
       "    </tr>\n",
       "    <tr>\n",
       "      <th>34</th>\n",
       "      <td>GZ_MeanD</td>\n",
       "      <td>3.205514</td>\n",
       "    </tr>\n",
       "    <tr>\n",
       "      <th>20</th>\n",
       "      <td>GY_Max</td>\n",
       "      <td>3.162079</td>\n",
       "    </tr>\n",
       "    <tr>\n",
       "      <th>5</th>\n",
       "      <td>AY_Mean</td>\n",
       "      <td>3.127159</td>\n",
       "    </tr>\n",
       "    <tr>\n",
       "      <th>12</th>\n",
       "      <td>AZ_Min</td>\n",
       "      <td>3.034305</td>\n",
       "    </tr>\n",
       "    <tr>\n",
       "      <th>6</th>\n",
       "      <td>AY_StDev</td>\n",
       "      <td>3.028266</td>\n",
       "    </tr>\n",
       "    <tr>\n",
       "      <th>9</th>\n",
       "      <td>AY_Deriv</td>\n",
       "      <td>2.933876</td>\n",
       "    </tr>\n",
       "    <tr>\n",
       "      <th>8</th>\n",
       "      <td>AY_StDevDem</td>\n",
       "      <td>2.827172</td>\n",
       "    </tr>\n",
       "    <tr>\n",
       "      <th>24</th>\n",
       "      <td>GY_StDev</td>\n",
       "      <td>2.820586</td>\n",
       "    </tr>\n",
       "    <tr>\n",
       "      <th>15</th>\n",
       "      <td>AZ_StDev</td>\n",
       "      <td>2.794011</td>\n",
       "    </tr>\n",
       "    <tr>\n",
       "      <th>31</th>\n",
       "      <td>GZ_Last</td>\n",
       "      <td>2.741478</td>\n",
       "    </tr>\n",
       "    <tr>\n",
       "      <th>36</th>\n",
       "      <td>GZ_Deriv</td>\n",
       "      <td>2.680522</td>\n",
       "    </tr>\n",
       "    <tr>\n",
       "      <th>18</th>\n",
       "      <td>AZ_Deriv</td>\n",
       "      <td>2.543299</td>\n",
       "    </tr>\n",
       "    <tr>\n",
       "      <th>23</th>\n",
       "      <td>GY_Mean</td>\n",
       "      <td>2.397385</td>\n",
       "    </tr>\n",
       "    <tr>\n",
       "      <th>2</th>\n",
       "      <td>AY_Max</td>\n",
       "      <td>2.360482</td>\n",
       "    </tr>\n",
       "    <tr>\n",
       "      <th>10</th>\n",
       "      <td>AZ_Range</td>\n",
       "      <td>2.220167</td>\n",
       "    </tr>\n",
       "    <tr>\n",
       "      <th>13</th>\n",
       "      <td>AZ_Last</td>\n",
       "      <td>2.191471</td>\n",
       "    </tr>\n",
       "    <tr>\n",
       "      <th>0</th>\n",
       "      <td>Distance</td>\n",
       "      <td>2.075451</td>\n",
       "    </tr>\n",
       "    <tr>\n",
       "      <th>3</th>\n",
       "      <td>AY_Min</td>\n",
       "      <td>1.999197</td>\n",
       "    </tr>\n",
       "    <tr>\n",
       "      <th>35</th>\n",
       "      <td>GZ_StDevDem</td>\n",
       "      <td>1.676074</td>\n",
       "    </tr>\n",
       "    <tr>\n",
       "      <th>7</th>\n",
       "      <td>AY_MeanD</td>\n",
       "      <td>1.647107</td>\n",
       "    </tr>\n",
       "    <tr>\n",
       "      <th>28</th>\n",
       "      <td>GZ_Range</td>\n",
       "      <td>1.576146</td>\n",
       "    </tr>\n",
       "    <tr>\n",
       "      <th>33</th>\n",
       "      <td>GZ_StDev</td>\n",
       "      <td>1.422165</td>\n",
       "    </tr>\n",
       "    <tr>\n",
       "      <th>30</th>\n",
       "      <td>GZ_Min</td>\n",
       "      <td>1.263877</td>\n",
       "    </tr>\n",
       "    <tr>\n",
       "      <th>16</th>\n",
       "      <td>AZ_MeanD</td>\n",
       "      <td>1.233731</td>\n",
       "    </tr>\n",
       "    <tr>\n",
       "      <th>1</th>\n",
       "      <td>AY_Range</td>\n",
       "      <td>1.206648</td>\n",
       "    </tr>\n",
       "    <tr>\n",
       "      <th>22</th>\n",
       "      <td>GY_Last</td>\n",
       "      <td>1.126194</td>\n",
       "    </tr>\n",
       "    <tr>\n",
       "      <th>27</th>\n",
       "      <td>GY_Deriv</td>\n",
       "      <td>0.764031</td>\n",
       "    </tr>\n",
       "    <tr>\n",
       "      <th>29</th>\n",
       "      <td>GZ_Max</td>\n",
       "      <td>0.187250</td>\n",
       "    </tr>\n",
       "  </tbody>\n",
       "</table>\n",
       "</div>"
      ],
      "text/plain": [
       "        Feature  Importance\n",
       "25     GY_MeanD    6.356344\n",
       "11       AZ_Max    6.042529\n",
       "14      AZ_Mean    5.089385\n",
       "32      GZ_Mean    4.419748\n",
       "21       GY_Min    4.113567\n",
       "4       AY_Last    3.765807\n",
       "17  AZ_StDevDem    3.491760\n",
       "19     GY_Range    3.255529\n",
       "26  GY_StDevDem    3.219690\n",
       "34     GZ_MeanD    3.205514\n",
       "20       GY_Max    3.162079\n",
       "5       AY_Mean    3.127159\n",
       "12       AZ_Min    3.034305\n",
       "6      AY_StDev    3.028266\n",
       "9      AY_Deriv    2.933876\n",
       "8   AY_StDevDem    2.827172\n",
       "24     GY_StDev    2.820586\n",
       "15     AZ_StDev    2.794011\n",
       "31      GZ_Last    2.741478\n",
       "36     GZ_Deriv    2.680522\n",
       "18     AZ_Deriv    2.543299\n",
       "23      GY_Mean    2.397385\n",
       "2        AY_Max    2.360482\n",
       "10     AZ_Range    2.220167\n",
       "13      AZ_Last    2.191471\n",
       "0      Distance    2.075451\n",
       "3        AY_Min    1.999197\n",
       "35  GZ_StDevDem    1.676074\n",
       "7      AY_MeanD    1.647107\n",
       "28     GZ_Range    1.576146\n",
       "33     GZ_StDev    1.422165\n",
       "30       GZ_Min    1.263877\n",
       "16     AZ_MeanD    1.233731\n",
       "1      AY_Range    1.206648\n",
       "22      GY_Last    1.126194\n",
       "27     GY_Deriv    0.764031\n",
       "29       GZ_Max    0.187250"
      ]
     },
     "execution_count": 15,
     "metadata": {},
     "output_type": "execute_result"
    }
   ],
   "source": [
    "feats = pd.DataFrame({\"Feature\":model.feature_names_, \"Importance\":model.feature_importances_})\n",
    "feats.loc[feats.Importance!=0,:].sort_values('Importance', ascending=False)"
   ]
  },
  {
   "cell_type": "markdown",
   "metadata": {},
   "source": [
    "We plot 10 most important features"
   ]
  },
  {
   "cell_type": "code",
   "execution_count": 16,
   "metadata": {},
   "outputs": [
    {
     "data": {
      "image/png": "[encoded data removed]",
      "text/plain": [
       "<Figure size 576x396 with 1 Axes>"
      ]
     },
     "metadata": {},
     "output_type": "display_data"
    }
   ],
   "source": [
    "feats.loc[feats.Importance!=0,:].sort_values('Importance', ascending=False).set_index('Feature').\\\n",
    "iloc[0:10].plot(kind='bar')\n",
    "\n",
    "_= plt.ylabel(\"% of Importance\")"
   ]
  },
  {
   "cell_type": "markdown",
   "metadata": {},
   "source": [
    "AY and AZ variables are very important, just as we saw on the data cleaning stage."
   ]
  }
 ],
 "metadata": {
  "kernelspec": {
   "display_name": "Python 3",
   "language": "python",
   "name": "python3"
  },
  "language_info": {
   "codemirror_mode": {
    "name": "ipython",
    "version": 3
   },
   "file_extension": ".py",
   "mimetype": "text/x-python",
   "name": "python",
   "nbconvert_exporter": "python",
   "pygments_lexer": "ipython3",
   "version": "3.7.7"
  }
 },
 "nbformat": 4,
 "nbformat_minor": 2
}
